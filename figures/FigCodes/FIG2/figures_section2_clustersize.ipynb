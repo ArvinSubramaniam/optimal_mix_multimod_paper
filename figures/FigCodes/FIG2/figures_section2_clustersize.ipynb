{
 "cells": [
  {
   "cell_type": "markdown",
   "metadata": {},
   "source": [
    "# Extra cluster size figures for Figure 2"
   ]
  },
  {
   "cell_type": "code",
   "execution_count": null,
   "metadata": {},
   "outputs": [],
   "source": [
    "from heterogeneous_model import *\n",
    "from sparseness_expansion import *"
   ]
  },
  {
   "cell_type": "markdown",
   "metadata": {},
   "source": [
    "## (i) Fixed $\\Delta \\xi$, and increasing $\\Delta \\phi$"
   ]
  },
  {
   "cell_type": "code",
   "execution_count": null,
   "metadata": {},
   "outputs": [],
   "source": [
    "N=100\n",
    "H=2100\n",
    "P=10\n",
    "K=10\n",
    "dstim=0.1\n",
    "dconts = [0.1,0.2,0.3]\n",
    "thress = np.linspace(0,3.1,20)\n",
    "\n",
    "p3=0.6\n",
    "rem = 1-p3\n",
    "p1 = rem/2\n",
    "p2=p1\n",
    "\n",
    "delta_theorys = np.zeros((len(dconts),len(thress)))\n",
    "delta_emps = np.zeros((len(dconts),len(thress)))\n",
    "cods = np.zeros(len(thress))\n",
    "\n",
    "for i, dcont in enumerate(dconts):\n",
    "    for j, th in enumerate(thress):\n",
    "        err1,err2,d_emp,d_theory = hebbian_mixed_layer_heterogeneous(H,N,P,K,th,p1,p2,p3,ds=dstim,dc=dcont)\n",
    "        delta_emps[i,j] = d_emp\n",
    "        delta_theorys[i,j] = d_theory\n",
    "        cods[j] = erf1(th)\n",
    "\n"
   ]
  },
  {
   "cell_type": "code",
   "execution_count": null,
   "metadata": {},
   "outputs": [],
   "source": [
    "clrs = ['red','black','blue']\n",
    "clrs_th = ['lightcoral','grey','lightblue']\n",
    "plt.figure()\n",
    "plt.title(r'$\\{ p \\} = \\{ 0.2,0.2,0.6 \\}$, $\\Delta \\xi = 0.1$',fontsize=14)\n",
    "for i,dc in enumerate(dconts):\n",
    "    plt.plot(cods,delta_emps[i,:],'s',color=clrs[i],label=r'$\\Delta \\phi = {}$'.format(dc))\n",
    "    plt.plot(cods,delta_theorys[i,:],'--',color=clrs_th[i])\n",
    "plt.xlabel(r'$f$',fontsize=14)\n",
    "plt.ylabel(r'$\\Delta m$',fontsize=14)\n",
    "plt.legend()\n",
    "plt.show()"
   ]
  },
  {
   "cell_type": "markdown",
   "metadata": {},
   "source": [
    "## (ii)  Two (same) ratios of $\\Delta \\xi / \\Delta \\phi$, vary $p_{3}$"
   ]
  },
  {
   "cell_type": "code",
   "execution_count": null,
   "metadata": {},
   "outputs": [],
   "source": [
    "###First values of noise\n",
    "N=100\n",
    "H=2100\n",
    "P=10\n",
    "K=10\n",
    "dstim = 0.1\n",
    "dcont = 0.1\n",
    "thress = np.linspace(0,3.1,20)\n",
    "\n",
    "##First configuration \n",
    "p3=0.6\n",
    "rem = 1-p3\n",
    "p1 = rem/2\n",
    "p2=p1\n",
    "\n",
    "p3_2=0.4\n",
    "rem = 1-p3_2\n",
    "p1_2 = rem/2\n",
    "p2_2=p1_2\n",
    "\n",
    "p3_3=0.2\n",
    "rem = 1-p3_3\n",
    "p1_3 = rem/2\n",
    "p2_3=p1_3\n",
    "\n",
    "p3s = [0.6,0.4,0.2]\n",
    "\n",
    "delta_theorys = np.zeros((3,len(thress)))\n",
    "delta_emps = np.zeros((3,len(thress)))\n",
    "cods = np.zeros(len(thress))\n",
    "\n",
    "for j, th in enumerate(thress):\n",
    "    err1,err2,d_emp,d_theory = hebbian_mixed_layer_heterogeneous(H,N,P,K,th,p1,p2,p3,ds=dstim,dc=dcont)\n",
    "    delta_emps[0,j] = d_emp\n",
    "    delta_theorys[0,j] = d_theory\n",
    "    \n",
    "    err1,err2,d_emp2,d_theory2 = hebbian_mixed_layer_heterogeneous(H,N,P,K,th,p1_2,p2_2,p3_2,ds=dstim,dc=dcont)\n",
    "    delta_emps[1,j] = d_emp2\n",
    "    delta_theorys[1,j] = d_theory2\n",
    "    \n",
    "    err1,err2,d_emp3,d_theory3 = hebbian_mixed_layer_heterogeneous(H,N,P,K,th,p1_3,p2_3,p3_3,ds=dstim,dc=dcont)\n",
    "    delta_emps[2,j] = d_emp3\n",
    "    delta_theorys[2,j] = d_theory3\n",
    "    \n",
    "    cods[j] = erf1(th)"
   ]
  },
  {
   "cell_type": "code",
   "execution_count": null,
   "metadata": {},
   "outputs": [],
   "source": [
    "###Second values of noise\n",
    "N=100\n",
    "H=2100\n",
    "P=10\n",
    "K=10\n",
    "dstim = 0.4\n",
    "dcont = 0.4\n",
    "thress = np.linspace(0,3.1,20)\n",
    "\n",
    "##First configuration \n",
    "p3=0.6\n",
    "rem = 1-p3\n",
    "p1 = rem/2\n",
    "p2=p1\n",
    "\n",
    "p3_2=0.4\n",
    "rem = 1-p3_2\n",
    "p1_2 = rem/2\n",
    "p2_2=p1_2\n",
    "\n",
    "p3_3=0.2\n",
    "rem = 1-p3_3\n",
    "p1_3 = rem/2\n",
    "p2_3=p1_3\n",
    "\n",
    "p3s = [0.6,0.4,0.2]\n",
    "\n",
    "delta_theorys2 = np.zeros((3,len(thress)))\n",
    "delta_emps2 = np.zeros((3,len(thress)))\n",
    "cods = np.zeros(len(thress))\n",
    "\n",
    "for j, th in enumerate(thress):\n",
    "    err1,err2,d_emp,d_theory = hebbian_mixed_layer_heterogeneous(H,N,P,K,th,p1,p2,p3,ds=dstim,dc=dcont)\n",
    "    delta_emps2[0,j] = d_emp\n",
    "    delta_theorys2[0,j] = d_theory\n",
    "    \n",
    "    err1,err2,d_emp2,d_theory2 = hebbian_mixed_layer_heterogeneous(H,N,P,K,th,p1_2,p2_2,p3_2,ds=dstim,dc=dcont)\n",
    "    delta_emps2[1,j] = d_emp2\n",
    "    delta_theorys2[1,j] = d_theory2\n",
    "    \n",
    "    err1,err2,d_emp3,d_theory3 = hebbian_mixed_layer_heterogeneous(H,N,P,K,th,p1_3,p2_3,p3_3,ds=dstim,dc=dcont)\n",
    "    delta_emps2[2,j] = d_emp3\n",
    "    delta_theorys2[2,j] = d_theory3\n",
    "    \n",
    "    cods[j] = erf1(th)"
   ]
  },
  {
   "cell_type": "code",
   "execution_count": null,
   "metadata": {},
   "outputs": [],
   "source": [
    "clrs = ['red','black','blue']\n",
    "clrs_th = ['lightcoral','grey','lightblue']\n",
    "plt.figure()\n",
    "plt.title(r'$\\Delta \\xi = \\Delta \\phi$',fontsize=14)\n",
    "for i in range(3):\n",
    "    plt.plot(cods,delta_emps[i,:],'o',color=clrs[i],label=r'$p3 = {}$,$\\Delta \\xi = 0.1$'.format(p3s[i]))\n",
    "    plt.plot(cods,delta_theorys[i,:],'--',color=clrs_th[i])\n",
    "    plt.plot(cods,delta_emps2[i,:],'s',color=clrs[i],label=r'$p3 = {}$,$\\Delta \\xi = 0.4$'.format(p3s[i]))\n",
    "    plt.plot(cods,delta_theorys2[i,:],'--',color=clrs_th[i])\n",
    "plt.xlabel(r'$f$',fontsize=14)\n",
    "plt.ylabel(r'$\\Delta m$',fontsize=14)\n",
    "plt.legend()\n",
    "plt.show()"
   ]
  }
 ],
 "metadata": {
  "kernelspec": {
   "display_name": "Python 3",
   "language": "python",
   "name": "python3"
  },
  "language_info": {
   "codemirror_mode": {
    "name": "ipython",
    "version": 3
   },
   "file_extension": ".py",
   "mimetype": "text/x-python",
   "name": "python",
   "nbconvert_exporter": "python",
   "pygments_lexer": "ipython3",
   "version": "3.7.6"
  }
 },
 "nbformat": 4,
 "nbformat_minor": 4
}
