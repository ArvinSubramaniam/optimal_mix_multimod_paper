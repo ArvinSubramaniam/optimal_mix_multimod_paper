{
 "cells": [
  {
   "cell_type": "markdown",
   "metadata": {},
   "source": [
    "# Plots for Section 2-3"
   ]
  },
  {
   "cell_type": "markdown",
   "metadata": {},
   "source": [
    "## 1. Plot for comparison of cluster size"
   ]
  },
  {
   "cell_type": "code",
   "execution_count": 1,
   "metadata": {},
   "outputs": [],
   "source": [
    "from heterogeneous_model import *\n",
    "from sparseness_expansion import *"
   ]
  },
  {
   "cell_type": "code",
   "execution_count": null,
   "metadata": {},
   "outputs": [],
   "source": [
    "N=100\n",
    "H=2100\n",
    "P=10\n",
    "K=10\n",
    "dstim=0.1\n",
    "dcont=0.1\n",
    "th=0.8\n",
    "\n",
    "p3=0.6\n",
    "rem = 1-p3\n",
    "p1 = rem/2\n",
    "p2=p1\n",
    "\n",
    "\n",
    "err1,err2,d_emp,d_theory = hebbian_mixed_layer_heterogeneous(H,N,P,K,th,p1,p2,p3,ds=dstim,dc=dcont)\n",
    "\n",
    "print(d_emp,d_theory)"
   ]
  },
  {
   "cell_type": "code",
   "execution_count": null,
   "metadata": {},
   "outputs": [],
   "source": [
    "ds_arr = np.linspace(0.1,0.9,9)\n",
    "dc_arr = np.linspace(0.1,0.9,9)\n",
    "\n",
    "#Two different {p} configurations\n",
    "p3_1 = 0.2\n",
    "diff1 = 1- p3_1\n",
    "p2_1 = diff1/2\n",
    "p1_1 = p2_1\n",
    "\n",
    "p3_2 = 1.0\n",
    "diff2 = 1- p3_2\n",
    "p2_2 = diff2/2\n",
    "p1_2 = p2_2\n",
    "\n",
    "delta_m_1 = np.zeros((9,9))\n",
    "delta_m_2 = np.zeros((9,9))\n",
    "\n",
    "\n",
    "for i,dstim in enumerate(ds_arr):\n",
    "    for j,dcont in enumerate(dc_arr):\n",
    "        delta_m_1[i,j] = hebbian_mixed_layer_heterogeneous(H,N,P,K,th,p1_1,p2_1,p3_1,ds=dstim,dc=dcont)[3]\n",
    "        delta_m_2[i,j] = hebbian_mixed_layer_heterogeneous(H,N,P,K,th,p1_2,p2_2,p3_2,ds=dstim,dc=dcont)[3]"
   ]
  },
  {
   "cell_type": "code",
   "execution_count": null,
   "metadata": {},
   "outputs": [],
   "source": [
    "from mpl_toolkits.axes_grid1 import make_axes_locatable\n",
    "from IPython import display\n",
    "display.set_matplotlib_formats('svg')\n",
    "path2 = 'figures_section2'\n",
    "\n",
    "ints_ticks = [int(x) for x in np.linspace(0,8,3)]\n",
    "xtks = dc_arr[ints_ticks]\n",
    "\n",
    "plt.figure()\n",
    "plt.title(r'$\\{ p_{1},p_{2},p_{3} \\} = \\{ 0.4,0.4,0.2 \\}$',fontsize=14)\n",
    "plt.imshow(delta_m_1,interpolation='gaussian')\n",
    "plt.xlabel(r'$\\Delta \\phi$',fontsize=14)\n",
    "plt.xticks(ints_ticks,xtks)\n",
    "plt.ylabel(r'$\\Delta \\xi$',fontsize=14)\n",
    "plt.yticks(ints_ticks,xtks)\n",
    "plt.colorbar()\n",
    "plt.savefig('{}/delta_m_1.png'.format(path2),transparent=True,dpi=200,bbox_inches='tight')\n",
    "plt.show()\n",
    "\n",
    "\n",
    "plt.figure()\n",
    "plt.title(r'$\\{ p_{1},p_{2},p_{3} \\} = \\{ 0.0,0.0,1.0 \\}$',fontsize=14)\n",
    "plt.imshow(delta_m_2,interpolation='gaussian')\n",
    "plt.xlabel(r'$\\Delta \\phi$',fontsize=14)\n",
    "plt.xticks(ints_ticks,xtks)\n",
    "plt.ylabel(r'$\\Delta \\xi$',fontsize=14)\n",
    "plt.yticks(ints_ticks,xtks)\n",
    "plt.colorbar()\n",
    "plt.savefig('{}/delta_m_2.png'.format(path2),transparent=True,dpi=200,bbox_inches='tight')\n",
    "plt.show()"
   ]
  },
  {
   "cell_type": "code",
   "execution_count": null,
   "metadata": {},
   "outputs": [],
   "source": [
    "##Compute similairty between two matrices\n",
    "diff_mat = delta_m_1 - delta_m_2\n",
    "plt.figure()\n",
    "plt.title(r'Difference',fontsize=14)\n",
    "plt.imshow(diff_mat)\n",
    "plt.xlabel(r'$\\Delta \\phi$',fontsize=14)\n",
    "plt.ylabel(r'$\\Delta \\xi$',fontsize=14)\n",
    "plt.xticks(ints_ticks,xtks)\n",
    "plt.yticks(ints_ticks,xtks)\n",
    "plt.colorbar()\n",
    "plt.savefig('{}/difference_delta_m.png'.format(path2),transparent=True,dpi=200,bbox_inches='tight')\n",
    "plt.show()"
   ]
  },
  {
   "cell_type": "markdown",
   "metadata": {},
   "source": [
    "## 2. Matrix and histogram for unimodal vs. multimodal"
   ]
  },
  {
   "cell_type": "markdown",
   "metadata": {},
   "source": [
    "## 2a) Multi-modal case"
   ]
  },
  {
   "cell_type": "code",
   "execution_count": null,
   "metadata": {},
   "outputs": [],
   "source": [
    "##Large matrix --> for the histograms\n",
    "N=100\n",
    "H=2100\n",
    "P=100\n",
    "K=100\n",
    "ds=0.1\n",
    "dc=0.1\n",
    "th=0.8\n",
    "\n",
    "p3=0.4\n",
    "p2=0.1\n",
    "p1=0.5\n",
    "\n",
    "h,h_test = generate_hetergeneous(H,N,P,K,p1,p2,p3,d_stim=ds,d_cont=dc)"
   ]
  },
  {
   "cell_type": "code",
   "execution_count": null,
   "metadata": {},
   "outputs": [],
   "source": [
    "##Small matrix --> for the covariance display\n",
    "N=100\n",
    "H=2100\n",
    "P=10\n",
    "K=10\n",
    "ds=0.1\n",
    "dc=0.1\n",
    "th=0.8\n",
    "\n",
    "p3=0.4\n",
    "p2=0.1\n",
    "p1=0.5\n",
    "\n",
    "h_small,h_test_small = generate_hetergeneous(H,N,P,K,p1,p2,p3,d_stim=ds,d_cont=dc)"
   ]
  },
  {
   "cell_type": "code",
   "execution_count": null,
   "metadata": {},
   "outputs": [],
   "source": [
    "cov_h = (1/H)*np.matmul(h.T,h)\n",
    "h1 = cov_h[0,:]"
   ]
  },
  {
   "cell_type": "code",
   "execution_count": null,
   "metadata": {},
   "outputs": [],
   "source": [
    "cov_h_small = (1/H)*np.matmul(h_small.T,h_small)"
   ]
  },
  {
   "cell_type": "code",
   "execution_count": null,
   "metadata": {},
   "outputs": [],
   "source": [
    "f = erf1(th)"
   ]
  },
  {
   "cell_type": "code",
   "execution_count": null,
   "metadata": {},
   "outputs": [],
   "source": [
    "o = 0.5*(np.sign(h-th)+1) - f"
   ]
  },
  {
   "cell_type": "code",
   "execution_count": null,
   "metadata": {},
   "outputs": [],
   "source": [
    "o_small = 0.5*(np.sign(h_small-th)+1) - f"
   ]
  },
  {
   "cell_type": "code",
   "execution_count": null,
   "metadata": {},
   "outputs": [],
   "source": [
    "##IMSHOW OF H\n",
    "from mpl_toolkits.axes_grid1 import make_axes_locatable\n",
    "from IPython import display\n",
    "display.set_matplotlib_formats('svg')\n",
    "path_fig = 'figures_section2'\n",
    "\n",
    "fig = plt.figure(figsize=(8,3))\n",
    "ax1 = fig.add_subplot(121)\n",
    "ax1.set_title(r'$\\mathbf{C} = \\mathbf{h}^{T} \\mathbf{h}$',fontsize=14)\n",
    "im1 = ax1.imshow(cov_h_small,aspect='auto')\n",
    "ax2 = fig.add_subplot(122)\n",
    "ax2.set_title(r'Histogram - linear inputs',fontsize=14)\n",
    "sns.distplot(h1,bins=150)\n",
    "ax2.set_xlabel(r'$h$',fontsize=14)\n",
    "ax2.set_ylabel(r'$P(h)$',fontsize=14)\n",
    "divider = make_axes_locatable(ax1)\n",
    "cax = divider.append_axes(\"left\", size=\"5%\", pad=1.05)\n",
    "plt.tight_layout()\n",
    "plt.colorbar(im1,cax=cax)\n",
    "plt.savefig('{}/histogram_cov_h.png'.format(path_fig),transparent=True,dpi=200,bbox_inches='tight')\n",
    "plt.show()"
   ]
  },
  {
   "cell_type": "code",
   "execution_count": null,
   "metadata": {},
   "outputs": [],
   "source": [
    "cov0 = (1/H)*np.matmul(o.T,o)"
   ]
  },
  {
   "cell_type": "code",
   "execution_count": null,
   "metadata": {},
   "outputs": [],
   "source": [
    "cov_small = (1/H)*np.matmul(o_small.T,o_small)"
   ]
  },
  {
   "cell_type": "code",
   "execution_count": null,
   "metadata": {},
   "outputs": [],
   "source": [
    "o1 = cov0[:,np.random.randint(P)]"
   ]
  },
  {
   "cell_type": "code",
   "execution_count": null,
   "metadata": {},
   "outputs": [],
   "source": [
    "fig = plt.figure(figsize=(8,3))\n",
    "ax1 = fig.add_subplot(121)\n",
    "ax1.set_title(r'$\\mathbf{C}  = (1/N_{c})(\\mathbf{m} - f)^{T}(\\mathbf{m} - f)$, $f=0.46$')\n",
    "im1 = ax1.imshow(cov_small,aspect='auto')\n",
    "ax2 = fig.add_subplot(122)\n",
    "ax2.set_title(r'Histogram - similarity matrix',fontsize=14)\n",
    "sns.distplot(o1)\n",
    "ax2.set_xlabel(r'Entries',fontsize=14)\n",
    "ax2.set_ylabel(r'$P((m^{\\mu}-f) (m^{\\nu}-f))$',fontsize=14)\n",
    "divider = make_axes_locatable(ax1)\n",
    "cax = divider.append_axes(\"left\", size=\"5%\", pad=1.05)\n",
    "plt.tight_layout()\n",
    "plt.colorbar(im1,cax=cax)\n",
    "plt.savefig('{}/histogram_cov_m.png'.format(path_fig),transparent=True,dpi=200,bbox_inches='tight')\n",
    "plt.show()"
   ]
  },
  {
   "cell_type": "markdown",
   "metadata": {},
   "source": [
    "## 2b) Unimodal case"
   ]
  },
  {
   "cell_type": "code",
   "execution_count": null,
   "metadata": {},
   "outputs": [],
   "source": [
    "##SAME AS ABOVE, BUT K=1,p1=1\n",
    "##Large matrix --> for the histograms\n",
    "N=100\n",
    "H=2100\n",
    "P=1000\n",
    "K=1\n",
    "ds=0.1\n",
    "dc=0.1\n",
    "th=0.8\n",
    "\n",
    "p1=1\n",
    "p2=0\n",
    "p3=0\n",
    "\n",
    "h,h_test = generate_hetergeneous(H,N,P,K,p1,p2,p3,d_stim=ds,d_cont=dc)"
   ]
  },
  {
   "cell_type": "code",
   "execution_count": null,
   "metadata": {},
   "outputs": [],
   "source": [
    "##Small matrix --> for the covariance display\n",
    "N=100\n",
    "H=2100\n",
    "P=100\n",
    "K=1\n",
    "ds=0.1\n",
    "dc=0.1\n",
    "th=0.8\n",
    "\n",
    "p1=1\n",
    "p2=0\n",
    "p3=0\n",
    "\n",
    "h_small,h_test_small = generate_hetergeneous(H,N,P,K,p1,p2,p3,d_stim=ds,d_cont=dc)"
   ]
  },
  {
   "cell_type": "code",
   "execution_count": null,
   "metadata": {},
   "outputs": [],
   "source": [
    "cov_h = (1/H)*np.matmul(h.T,h)\n",
    "h1 = cov_h[0,:]"
   ]
  },
  {
   "cell_type": "code",
   "execution_count": null,
   "metadata": {},
   "outputs": [],
   "source": [
    "cov_h_small = (1/H)*np.matmul(h_small.T,h_small)"
   ]
  },
  {
   "cell_type": "code",
   "execution_count": null,
   "metadata": {},
   "outputs": [],
   "source": [
    "f = erf1(th)\n",
    "o = 0.5*(np.sign(h-th)+1) - f\n",
    "o_small = 0.5*(np.sign(h_small-th)+1) - f"
   ]
  },
  {
   "cell_type": "code",
   "execution_count": null,
   "metadata": {},
   "outputs": [],
   "source": [
    "##IMSHOW OF H\n",
    "from mpl_toolkits.axes_grid1 import make_axes_locatable\n",
    "from IPython import display\n",
    "display.set_matplotlib_formats('svg')\n",
    "path_fig = 'figures_section2'\n",
    "\n",
    "fig = plt.figure(figsize=(8,3))\n",
    "ax1 = fig.add_subplot(121)\n",
    "ax1.set_title(r'$\\mathbf{C} = \\mathbf{h}^{T} \\mathbf{h}$',fontsize=14)\n",
    "im1 = ax1.imshow(cov_h_small,aspect='auto')\n",
    "ax2 = fig.add_subplot(122)\n",
    "ax2.set_title(r'Histogram - linear inputs',fontsize=14)\n",
    "sns.distplot(h1,bins=150)\n",
    "ax2.set_xlabel(r'$h$',fontsize=14)\n",
    "ax2.set_ylabel(r'$P(h)$',fontsize=14)\n",
    "divider = make_axes_locatable(ax1)\n",
    "cax = divider.append_axes(\"left\", size=\"5%\", pad=1.05)\n",
    "plt.tight_layout()\n",
    "plt.colorbar(im1,cax=cax)\n",
    "plt.savefig('{}/histogram_cov_h_unimodal.png'.format(path_fig),transparent=True,dpi=200,bbox_inches='tight')\n",
    "plt.show()\n"
   ]
  },
  {
   "cell_type": "code",
   "execution_count": null,
   "metadata": {},
   "outputs": [],
   "source": [
    "cov0 = (1/H)*np.matmul(o.T,o)\n",
    "cov_small = (1/H)*np.matmul(o_small.T,o_small)\n",
    "o1 = cov0[:,np.random.randint(P)]"
   ]
  },
  {
   "cell_type": "code",
   "execution_count": null,
   "metadata": {},
   "outputs": [],
   "source": [
    "fig = plt.figure(figsize=(8,3))\n",
    "ax1 = fig.add_subplot(121)\n",
    "ax1.set_title(r'$\\mathbf{C}  = (1/N_{c})(\\mathbf{m} - f)^{T}(\\mathbf{m} - f)$, $f=0.46$')\n",
    "im1 = ax1.imshow(cov_small,aspect='auto')\n",
    "ax2 = fig.add_subplot(122)\n",
    "ax2.set_title(r'Histogram - similarity matrix',fontsize=14)\n",
    "sns.distplot(o1)\n",
    "ax2.set_xlabel(r'Entries',fontsize=14)\n",
    "ax2.set_ylabel(r'$P((m^{\\mu}-f) (m^{\\nu}-f))$',fontsize=14)\n",
    "divider = make_axes_locatable(ax1)\n",
    "cax = divider.append_axes(\"left\", size=\"5%\", pad=1.05)\n",
    "plt.tight_layout()\n",
    "plt.colorbar(im1,cax=cax)\n",
    "plt.savefig('{}/histogram_cov_m_unimodal.png'.format(path_fig),transparent=True,dpi=200,bbox_inches='tight')\n",
    "plt.show()"
   ]
  },
  {
   "cell_type": "markdown",
   "metadata": {},
   "source": [
    "# 3. Comparison of gen. error"
   ]
  },
  {
   "cell_type": "code",
   "execution_count": null,
   "metadata": {},
   "outputs": [],
   "source": [
    "###THREE SEPARATE CONFIGURATIONS - COMPARE\n",
    "#Config 1 --> unimodal\n",
    "N=100\n",
    "H=2100\n",
    "P1=1600\n",
    "K1=1\n",
    "dstim=0.1\n",
    "dcont=0.1\n",
    "\n",
    "p1_1=1\n",
    "p2_1=0\n",
    "p3_1=0\n",
    "\n",
    "#Config 2 (symm) --> {} = {0.3,0.3,0.4}\n",
    "N=100\n",
    "H=2100\n",
    "P=40\n",
    "K=40\n",
    "dstim=0.1\n",
    "dcont=0.1\n",
    "\n",
    "p1_2=0.3\n",
    "p2_2=0.3\n",
    "p3_2=0.4\n",
    "\n",
    "#Config 3 (symm) --> {} = {0.,0.,1.0}\n",
    "N=100\n",
    "H=2100\n",
    "P=40\n",
    "K=40\n",
    "dstim=0.1\n",
    "dcont=0.1\n",
    "\n",
    "p1_3=0.0\n",
    "p2_3=0.0\n",
    "p3_3=1.0\n",
    "\n",
    "th_list = np.linspace(0,3.1,20)\n",
    "cods_list = np.zeros(len(th_list))\n",
    "\n",
    "errs1_theory = np.zeros(len(th_list))\n",
    "errs1_emps = np.zeros(len(th_list))\n",
    "errs2_theory = np.zeros(len(th_list))\n",
    "errs2_emps = np.zeros(len(th_list))\n",
    "errs3_theory = np.zeros(len(th_list))\n",
    "errs3_emps = np.zeros(len(th_list))\n",
    "\n",
    "for i,th in enumerate(th_list):\n",
    "    print('i is',i)\n",
    "    err1_theory,err1_emp,d_emp,d_theory = hebbian_mixed_layer_heterogeneous(H,N,P1,K1,th,p1_1,p2_1,p3_1,ds=dstim,dc=dcont)\n",
    "    err2_theory,err2_emp,d_emp,d_theory = hebbian_mixed_layer_heterogeneous(H,N,P,K,th,p1_2,p2_2,p3_2,ds=dstim,dc=dcont)\n",
    "    err3_theory,err3_emp,d_emp,d_theory = hebbian_mixed_layer_heterogeneous(H,N,P,K,th,p1_3,p2_3,p3_3,ds=dstim,dc=dcont)\n",
    "    \n",
    "    errs1_theory[i] = err1_theory\n",
    "    errs1_emps[i] = err1_emp\n",
    "    \n",
    "    errs2_theory[i] = err2_theory\n",
    "    errs2_emps[i] = err2_emp\n",
    "    \n",
    "    errs3_theory[i] = err3_theory\n",
    "    errs3_emps[i] = err3_emp\n",
    "    \n",
    "    cods_list[i] = erf1(th)\n",
    "    "
   ]
  },
  {
   "cell_type": "code",
   "execution_count": null,
   "metadata": {},
   "outputs": [],
   "source": [
    "##GET UNIMODAL WITH P=1600\n",
    "from sparseness_expansion import *\n",
    "N=100\n",
    "H=2100\n",
    "P=1600\n",
    "ds=0.1\n",
    "for i,th in enumerate(th_list):\n",
    "    print('i is',i)\n",
    "    err_mean, err_std, err_theory, cod,f, d_out_mean, d_out_theory = compute_err_and_snr(N,P,H,ds,th)\n",
    "    errs1_theory[i] = err_theory\n",
    "    errs1_emps[i] = err_mean"
   ]
  },
  {
   "cell_type": "code",
   "execution_count": null,
   "metadata": {},
   "outputs": [],
   "source": [
    "fig = plt.figure()\n",
    "plt.title(r'Comparision of generalization error - unimodal vs. umlti-modal')\n",
    "plt.plot(cods_list,errs1_emps,'s',color='Black',label=r'Unimodal')\n",
    "plt.plot(cods_list,errs1_theory,'--',color='Black')\n",
    "plt.plot(cods_list,errs2_emps,'s',color='Red',label=r'Multimodal, $\\{ p \\} = \\{ 0.3,0.3,0.4 \\}$')\n",
    "plt.plot(cods_list,errs2_theory,'--',color='Red')\n",
    "plt.plot(cods_list,errs3_emps,'s',color='Green',label=r'Multimodal, $\\{ p \\} = \\{ 0.0,0.0,1.0 \\}$')\n",
    "plt.plot(cods_list,errs3_theory,'--',color='Green')\n",
    "plt.xlabel(r'$f$',fontsize=14)\n",
    "plt.ylabel(r'$\\epsilon$',fontsize=14)\n",
    "plt.legend()\n",
    "plt.savefig('{}/comparison_epsilon.png'.format(path_fig),transparent=True,dpi=200,bbox_inches='tight')\n",
    "plt.show()"
   ]
  },
  {
   "cell_type": "markdown",
   "metadata": {},
   "source": [
    "## 4. Comparison of eignevalue spectrum"
   ]
  },
  {
   "cell_type": "code",
   "execution_count": null,
   "metadata": {},
   "outputs": [],
   "source": [
    "###Same 3 configs as above\n",
    "th = 0.8\n",
    "f = erf1(th)\n",
    "h1,h_test1 = generate_hetergeneous(H,N,P1,K1,p1_1,p2_1,p3_1,d_stim=dstim,d_cont=dcont)\n",
    "o1 = 0.5*(np.sign(h1 - th) + 1) - f\n",
    "cov1 = (1/H)*np.matmul(o1.T,o1)\n",
    "eigs1 = LA.eigvals(cov1)\n",
    "\n",
    "h2,h_test2 = generate_hetergeneous(H,N,P,K,p1_2,p2_2,p3_2,d_stim=dstim,d_cont=dcont)\n",
    "o2 = 0.5*(np.sign(h2 - th) + 1) - f\n",
    "cov2 = (1/H)*np.matmul(o2.T,o2)\n",
    "eigs2 = LA.eigvals(cov2)\n",
    "\n",
    "\n",
    "h3,h_test3 = generate_hetergeneous(H,N,P,K,p1_3,p2_3,p3_3,d_stim=dstim,d_cont=dcont)\n",
    "o3 = 0.5*(np.sign(h3 - th) + 1) - f\n",
    "cov3 = (1/H)*np.matmul(o3.T,o3)\n",
    "eigs3 = LA.eigvals(cov3)"
   ]
  },
  {
   "cell_type": "code",
   "execution_count": null,
   "metadata": {},
   "outputs": [],
   "source": [
    "plt.figure()\n",
    "plt.title(r'Comparison of eigenvalue spectrum - unimodal vs. multi-modal',fontsize=14)\n",
    "plt.plot(eigs1,color='black',label=r'Unimodal')\n",
    "plt.plot(eigs2,color='red',label=r'Multimodal, $\\{ p \\} = \\{ 0.3,0.3,0.4 \\}$')\n",
    "plt.plot(eigs3,color='green',label=r'Multimodal, $\\{ p \\} = \\{ 0.,0.,1.0 \\}$')\n",
    "plt.axvline(N,linestyle='--',label='$N=100$')\n",
    "plt.xlabel(r'Ranked eigenvalue index',fontsize=14)\n",
    "plt.ylabel(r'Eigenvalues',fontsize=14)\n",
    "plt.xlim(0,500)\n",
    "plt.legend()\n",
    "plt.savefig('{}/comparison_eigenvalues.png'.format(path_fig),transparent=True,dpi=200,bbox_inches='tight')\n",
    "plt.show()"
   ]
  }
 ],
 "metadata": {
  "kernelspec": {
   "display_name": "Python 3",
   "language": "python",
   "name": "python3"
  },
  "language_info": {
   "codemirror_mode": {
    "name": "ipython",
    "version": 3
   },
   "file_extension": ".py",
   "mimetype": "text/x-python",
   "name": "python",
   "nbconvert_exporter": "python",
   "pygments_lexer": "ipython3",
   "version": "3.7.6"
  }
 },
 "nbformat": 4,
 "nbformat_minor": 4
}
